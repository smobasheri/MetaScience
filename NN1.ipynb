{
  "nbformat": 4,
  "nbformat_minor": 0,
  "metadata": {
    "colab": {
      "provenance": [],
      "authorship_tag": "ABX9TyMIQCTrHNAspUiOba4Ax6Me",
      "include_colab_link": true
    },
    "kernelspec": {
      "name": "python3",
      "display_name": "Python 3"
    },
    "language_info": {
      "name": "python"
    }
  },
  "cells": [
    {
      "cell_type": "markdown",
      "metadata": {
        "id": "view-in-github",
        "colab_type": "text"
      },
      "source": [
        "<a href=\"https://colab.research.google.com/github/smobasheri/MetaScience/blob/master/NN1.ipynb\" target=\"_parent\"><img src=\"https://colab.research.google.com/assets/colab-badge.svg\" alt=\"Open In Colab\"/></a>"
      ]
    },
    {
      "cell_type": "code",
      "execution_count": null,
      "metadata": {
        "colab": {
          "base_uri": "https://localhost:8080/"
        },
        "id": "CsRFWaCLSyel",
        "outputId": "b44c85bb-f85d-40a3-e60d-8cd42c8c2afc"
      },
      "outputs": [
        {
          "output_type": "stream",
          "name": "stdout",
          "text": [
            "Downloading data from https://storage.googleapis.com/tensorflow/tf-keras-datasets/mnist.npz\n",
            "11490434/11490434 [==============================] - 0s 0us/step\n"
          ]
        }
      ],
      "source": [
        "from tensorflow import keras\n",
        "import numpy as np\n",
        "from matplotlib import pyplot as plt\n",
        "(x_train, y_train), (x_test, y_test) = keras.datasets.mnist.load_data()"
      ]
    },
    {
      "cell_type": "code",
      "source": [
        "plt.figure(figsize = (25, 4))\n",
        "for i in range(8):\n",
        "  plt.subplot(1, 8, i+1)\n",
        "  plt.imshow(x_train[i], cmap = 'gray')\n",
        "  plt.xticks([])\n",
        "  plt.yticks([])\n",
        "  plt.title(y_train[i])\n"
      ],
      "metadata": {
        "colab": {
          "base_uri": "https://localhost:8080/",
          "height": 166
        },
        "id": "SwsOKwQQlNU8",
        "outputId": "198eaa4b-0d98-4c20-9e2b-08a8c0d9b2ab"
      },
      "execution_count": null,
      "outputs": [
        {
          "output_type": "display_data",
          "data": {
            "text/plain": [
              "<Figure size 2500x400 with 10 Axes>"
            ],
            "image/png": "[encoded data removed]"
          },
          "metadata": {}
        }
      ]
    },
    {
      "cell_type": "code",
      "source": [
        "num_classes = 10\n",
        "y_train = keras.utils.to_categorical(y_train, num_classes)\n",
        "y_test = keras.utils.to_categorical(y_test, num_classes)\n"
      ],
      "metadata": {
        "id": "RtslG-VwnYw8"
      },
      "execution_count": null,
      "outputs": []
    },
    {
      "cell_type": "code",
      "source": [
        "plt.figure(figsize = (25, 4))\n",
        "for i in range(8):\n",
        "  plt.subplot(1, 8, i+1)\n",
        "  plt.imshow(x_train[i], cmap = 'gray')\n",
        "  plt.xticks([])\n",
        "  plt.yticks([])\n",
        "  plt.title(y_train[i])\n"
      ],
      "metadata": {
        "colab": {
          "base_uri": "https://localhost:8080/",
          "height": 251
        },
        "id": "kUj5ZVBgoU90",
        "outputId": "8dc12721-0fdc-41a4-c1dc-057a289d9c10"
      },
      "execution_count": null,
      "outputs": [
        {
          "output_type": "stream",
          "name": "stderr",
          "text": [
            "/usr/local/lib/python3.10/dist-packages/matplotlib/text.py:1279: FutureWarning: elementwise comparison failed; returning scalar instead, but in the future will perform elementwise comparison\n",
            "  if s != self._text:\n"
          ]
        },
        {
          "output_type": "display_data",
          "data": {
            "text/plain": [
              "<Figure size 2500x400 with 8 Axes>"
            ],
            "image/png": "[encoded data removed]"
          },
          "metadata": {}
        }
      ]
    },
    {
      "cell_type": "code",
      "source": [
        "model = keras.Sequential()\n",
        "model.add(keras.layers.Input(shape = x_train[0].shape))\n",
        "model.add(keras.layers.Flatten())\n",
        "model.add(keras.layers.Dense(units = num_classes, activation='softmax'))\n",
        "\n",
        "model.summary()"
      ],
      "metadata": {
        "colab": {
          "base_uri": "https://localhost:8080/"
        },
        "id": "wzMXoSLdpf1Z",
        "outputId": "4ea7a640-f770-4ba6-9d44-6dd467baaa05"
      },
      "execution_count": null,
      "outputs": [
        {
          "output_type": "stream",
          "name": "stdout",
          "text": [
            "Model: \"sequential_2\"\n",
            "_________________________________________________________________\n",
            " Layer (type)                Output Shape              Param #   \n",
            "=================================================================\n",
            " flatten_1 (Flatten)         (None, 784)               0         \n",
            "                                                                 \n",
            " dense (Dense)               (None, 10)                7850      \n",
            "                                                                 \n",
            "=================================================================\n",
            "Total params: 7850 (30.66 KB)\n",
            "Trainable params: 7850 (30.66 KB)\n",
            "Non-trainable params: 0 (0.00 Byte)\n",
            "_________________________________________________________________\n"
          ]
        }
      ]
    },
    {
      "cell_type": "code",
      "source": [
        "model.compile(loss = 'categorical_crossentropy', optimizer = 'adam', metrics = ['accuracy'])"
      ],
      "metadata": {
        "id": "u3cD5cWdoXu6"
      },
      "execution_count": null,
      "outputs": []
    },
    {
      "cell_type": "code",
      "source": [
        "history = model.fit(x_train, y_train, batch_size=100, epochs=20, validation_data=(x_test, y_test), shuffle=True)"
      ],
      "metadata": {
        "colab": {
          "base_uri": "https://localhost:8080/"
        },
        "id": "Os7LxrHSpZ_e",
        "outputId": "1d8c5099-e106-446b-f1fa-737d12d60bd0"
      },
      "execution_count": null,
      "outputs": [
        {
          "output_type": "stream",
          "name": "stdout",
          "text": [
            "Epoch 1/20\n",
            "600/600 [==============================] - 4s 5ms/step - loss: 10.8346 - accuracy: 0.8248 - val_loss: 5.9012 - val_accuracy: 0.8763\n",
            "Epoch 2/20\n",
            "600/600 [==============================] - 2s 3ms/step - loss: 4.9514 - accuracy: 0.8785 - val_loss: 4.4208 - val_accuracy: 0.8864\n",
            "Epoch 3/20\n",
            "600/600 [==============================] - 2s 3ms/step - loss: 4.0604 - accuracy: 0.8854 - val_loss: 3.9584 - val_accuracy: 0.8898\n",
            "Epoch 4/20\n",
            "600/600 [==============================] - 2s 3ms/step - loss: 3.6929 - accuracy: 0.8859 - val_loss: 3.6707 - val_accuracy: 0.8936\n",
            "Epoch 5/20\n",
            "600/600 [==============================] - 2s 3ms/step - loss: 3.4876 - accuracy: 0.8882 - val_loss: 3.9963 - val_accuracy: 0.8746\n",
            "Epoch 6/20\n",
            "600/600 [==============================] - 2s 3ms/step - loss: 3.2286 - accuracy: 0.8901 - val_loss: 3.9762 - val_accuracy: 0.8778\n",
            "Epoch 7/20\n",
            "600/600 [==============================] - 2s 3ms/step - loss: 3.1425 - accuracy: 0.8914 - val_loss: 3.3395 - val_accuracy: 0.8936\n",
            "Epoch 8/20\n",
            "600/600 [==============================] - 3s 5ms/step - loss: 2.9407 - accuracy: 0.8918 - val_loss: 3.6506 - val_accuracy: 0.8807\n",
            "Epoch 9/20\n",
            "600/600 [==============================] - 2s 3ms/step - loss: 2.8683 - accuracy: 0.8923 - val_loss: 4.7299 - val_accuracy: 0.8437\n",
            "Epoch 10/20\n",
            "600/600 [==============================] - 2s 3ms/step - loss: 2.9541 - accuracy: 0.8892 - val_loss: 3.5808 - val_accuracy: 0.8880\n",
            "Epoch 11/20\n",
            "600/600 [==============================] - 2s 3ms/step - loss: 2.8623 - accuracy: 0.8935 - val_loss: 3.6651 - val_accuracy: 0.8841\n",
            "Epoch 12/20\n",
            "600/600 [==============================] - 2s 3ms/step - loss: 2.8082 - accuracy: 0.8924 - val_loss: 3.3090 - val_accuracy: 0.8988\n",
            "Epoch 13/20\n",
            "600/600 [==============================] - 2s 3ms/step - loss: 2.8963 - accuracy: 0.8914 - val_loss: 3.8410 - val_accuracy: 0.8733\n",
            "Epoch 14/20\n",
            "600/600 [==============================] - 2s 4ms/step - loss: 2.8673 - accuracy: 0.8912 - val_loss: 3.3198 - val_accuracy: 0.8885\n",
            "Epoch 15/20\n",
            "600/600 [==============================] - 3s 5ms/step - loss: 2.7752 - accuracy: 0.8933 - val_loss: 4.0229 - val_accuracy: 0.8698\n",
            "Epoch 16/20\n",
            "600/600 [==============================] - 2s 3ms/step - loss: 2.7844 - accuracy: 0.8942 - val_loss: 3.7057 - val_accuracy: 0.8679\n",
            "Epoch 17/20\n",
            "600/600 [==============================] - 2s 3ms/step - loss: 2.7679 - accuracy: 0.8938 - val_loss: 3.4313 - val_accuracy: 0.8900\n",
            "Epoch 18/20\n",
            "600/600 [==============================] - 2s 3ms/step - loss: 2.7354 - accuracy: 0.8934 - val_loss: 3.6221 - val_accuracy: 0.8825\n",
            "Epoch 19/20\n",
            "600/600 [==============================] - 2s 3ms/step - loss: 2.6741 - accuracy: 0.8938 - val_loss: 3.3619 - val_accuracy: 0.8962\n",
            "Epoch 20/20\n",
            "600/600 [==============================] - 2s 3ms/step - loss: 2.8443 - accuracy: 0.8910 - val_loss: 3.4237 - val_accuracy: 0.9013\n"
          ]
        }
      ]
    }
  ]
}